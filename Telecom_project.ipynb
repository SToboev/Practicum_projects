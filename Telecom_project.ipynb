{
 "cells": [
  {
   "cell_type": "markdown",
   "id": "77f67172",
   "metadata": {},
   "source": [
    "## Проект - Телекоммуникационная компания\n",
    "___"
   ]
  },
  {
   "cell_type": "markdown",
   "id": "fc99ffd4",
   "metadata": {},
   "source": [
    "Заказчик исследования — телекоммуникационная компания, которая оказывает услуги на территории всего СНГ. \n",
    "\n",
    "\n",
    "**Цель проекта** - определить текущий уровень потребительской лояльности (NPS) среди клиентов из России. "
   ]
  },
  {
   "cell_type": "markdown",
   "id": "e1207f2d-0292-4a6b-bbd8-8e06d652211b",
   "metadata": {},
   "source": [
    "**План проекта**\n",
    "- подключение к базе данных\n",
    "- выгрузка данных\n",
    "- создание Дашборда в Tableau"
   ]
  },
  {
   "cell_type": "markdown",
   "id": "c6781a11",
   "metadata": {},
   "source": [
    "## Подключение к базе данных и выгрузка"
   ]
  },
  {
   "cell_type": "code",
   "execution_count": 1,
   "id": "fc7efa54",
   "metadata": {},
   "outputs": [],
   "source": [
    "import os\n",
    "import pandas as pd\n",
    "import numpy as np\n",
    "\n",
    "from sqlalchemy import create_engine"
   ]
  },
  {
   "cell_type": "code",
   "execution_count": 2,
   "id": "0017f8e7",
   "metadata": {},
   "outputs": [],
   "source": [
    "path_to_db_local = 'telecomm_csi.db'\n",
    "path_to_db_platform = '/datasets/telecomm_csi.db'\n",
    "path_to_db = None\n",
    "\n",
    "if os.path.exists(path_to_db_local):\n",
    "    path_to_db = path_to_db_local\n",
    "elif os.path.exists(path_to_db_platform):\n",
    "    path_to_db = path_to_db_platform\n",
    "else:\n",
    "    raise Exception('Файл с базой данных SQLite не найден!')\n",
    "\n",
    "if path_to_db:\n",
    "    engine = create_engine(f'sqlite:///{path_to_db}', echo=False)"
   ]
  },
  {
   "cell_type": "code",
   "execution_count": 3,
   "id": "84ebad43",
   "metadata": {},
   "outputs": [],
   "source": [
    "query = \"\"\"\n",
    "SELECT u.user_id,\n",
    "       u.lt_day,\n",
    "       CASE \n",
    "           WHEN u.lt_day <= 365 THEN 'new'\n",
    "           ELSE 'old'\n",
    "       END AS is_new,\n",
    "       u.age,\n",
    "       CASE \n",
    "           WHEN u.gender_segment = 1 THEN 'female'\n",
    "           WHEN u.gender_segment = 0 THEN 'male'\n",
    "           ELSE 'other'\n",
    "       END AS gender_segment,\n",
    "       u.os_name,\n",
    "       u.cpe_type_name,\n",
    "       loc.country,\n",
    "       loc.city,\n",
    "       SUBSTRING(a.title, 4) AS age_segment,\n",
    "       SUBSTRING(t. title, 4) AS traffic_segment,\n",
    "       SUBSTRING(lt.title, 4) AS lifetime_segment,\n",
    "       u.nps_score,\n",
    "       CASE \n",
    "           WHEN u.nps_score >= 9 THEN 'promoter'\n",
    "           WHEN u.nps_score <= 6 THEN 'detractor'\n",
    "           ELSE 'passive'\n",
    "       END AS nps_group\n",
    "FROM user AS u\n",
    "LEFT JOIN location AS loc ON u.location_id = loc.location_id\n",
    "LEFT JOIN age_segment AS a ON u.age_gr_id = a.age_gr_id\n",
    "LEFT JOIN traffic_segment AS t ON u.tr_gr_id = t.tr_gr_id\n",
    "LEFT JOIN lifetime_segment AS lt ON u.lt_gr_id = lt.lt_gr_id\n",
    "\"\"\" "
   ]
  },
  {
   "cell_type": "markdown",
   "id": "cbed5004-dadb-43f2-895b-a8a3e7f246a2",
   "metadata": {},
   "source": [
    "Получили доступ к базе данных. Данные выгрузили в SQLite.\n",
    "\n",
    "Собрал в одну витрину данные из разных таблиц. Эту витрину я буду использовать для дашборда."
   ]
  },
  {
   "cell_type": "code",
   "execution_count": 4,
   "id": "3965faf2",
   "metadata": {},
   "outputs": [
    {
     "data": {
      "text/html": [
       "<div>\n",
       "<style scoped>\n",
       "    .dataframe tbody tr th:only-of-type {\n",
       "        vertical-align: middle;\n",
       "    }\n",
       "\n",
       "    .dataframe tbody tr th {\n",
       "        vertical-align: top;\n",
       "    }\n",
       "\n",
       "    .dataframe thead th {\n",
       "        text-align: right;\n",
       "    }\n",
       "</style>\n",
       "<table border=\"1\" class=\"dataframe\">\n",
       "  <thead>\n",
       "    <tr style=\"text-align: right;\">\n",
       "      <th></th>\n",
       "      <th>user_id</th>\n",
       "      <th>lt_day</th>\n",
       "      <th>is_new</th>\n",
       "      <th>age</th>\n",
       "      <th>gender_segment</th>\n",
       "      <th>os_name</th>\n",
       "      <th>cpe_type_name</th>\n",
       "      <th>country</th>\n",
       "      <th>city</th>\n",
       "      <th>age_segment</th>\n",
       "      <th>traffic_segment</th>\n",
       "      <th>lifetime_segment</th>\n",
       "      <th>nps_score</th>\n",
       "      <th>nps_group</th>\n",
       "    </tr>\n",
       "  </thead>\n",
       "  <tbody>\n",
       "    <tr>\n",
       "      <th>0</th>\n",
       "      <td>A001A2</td>\n",
       "      <td>2320</td>\n",
       "      <td>old</td>\n",
       "      <td>45.0</td>\n",
       "      <td>female</td>\n",
       "      <td>ANDROID</td>\n",
       "      <td>SMARTPHONE</td>\n",
       "      <td>Россия</td>\n",
       "      <td>Уфа</td>\n",
       "      <td>45-54</td>\n",
       "      <td>1-5</td>\n",
       "      <td>36+</td>\n",
       "      <td>10</td>\n",
       "      <td>promoter</td>\n",
       "    </tr>\n",
       "    <tr>\n",
       "      <th>1</th>\n",
       "      <td>A001WF</td>\n",
       "      <td>2344</td>\n",
       "      <td>old</td>\n",
       "      <td>53.0</td>\n",
       "      <td>male</td>\n",
       "      <td>ANDROID</td>\n",
       "      <td>SMARTPHONE</td>\n",
       "      <td>Россия</td>\n",
       "      <td>Киров</td>\n",
       "      <td>45-54</td>\n",
       "      <td>1-5</td>\n",
       "      <td>36+</td>\n",
       "      <td>10</td>\n",
       "      <td>promoter</td>\n",
       "    </tr>\n",
       "    <tr>\n",
       "      <th>2</th>\n",
       "      <td>A003Q7</td>\n",
       "      <td>467</td>\n",
       "      <td>old</td>\n",
       "      <td>57.0</td>\n",
       "      <td>male</td>\n",
       "      <td>ANDROID</td>\n",
       "      <td>SMARTPHONE</td>\n",
       "      <td>Россия</td>\n",
       "      <td>Москва</td>\n",
       "      <td>55-64</td>\n",
       "      <td>20-25</td>\n",
       "      <td>13-24</td>\n",
       "      <td>10</td>\n",
       "      <td>promoter</td>\n",
       "    </tr>\n",
       "    <tr>\n",
       "      <th>3</th>\n",
       "      <td>A004TB</td>\n",
       "      <td>4190</td>\n",
       "      <td>old</td>\n",
       "      <td>44.0</td>\n",
       "      <td>female</td>\n",
       "      <td>IOS</td>\n",
       "      <td>SMARTPHONE</td>\n",
       "      <td>Россия</td>\n",
       "      <td>РостовнаДону</td>\n",
       "      <td>35-44</td>\n",
       "      <td>0.1-1</td>\n",
       "      <td>36+</td>\n",
       "      <td>10</td>\n",
       "      <td>promoter</td>\n",
       "    </tr>\n",
       "    <tr>\n",
       "      <th>4</th>\n",
       "      <td>A004XT</td>\n",
       "      <td>1163</td>\n",
       "      <td>old</td>\n",
       "      <td>24.0</td>\n",
       "      <td>male</td>\n",
       "      <td>ANDROID</td>\n",
       "      <td>SMARTPHONE</td>\n",
       "      <td>Россия</td>\n",
       "      <td>Рязань</td>\n",
       "      <td>16-24</td>\n",
       "      <td>5-10</td>\n",
       "      <td>36+</td>\n",
       "      <td>10</td>\n",
       "      <td>promoter</td>\n",
       "    </tr>\n",
       "    <tr>\n",
       "      <th>...</th>\n",
       "      <td>...</td>\n",
       "      <td>...</td>\n",
       "      <td>...</td>\n",
       "      <td>...</td>\n",
       "      <td>...</td>\n",
       "      <td>...</td>\n",
       "      <td>...</td>\n",
       "      <td>...</td>\n",
       "      <td>...</td>\n",
       "      <td>...</td>\n",
       "      <td>...</td>\n",
       "      <td>...</td>\n",
       "      <td>...</td>\n",
       "      <td>...</td>\n",
       "    </tr>\n",
       "    <tr>\n",
       "      <th>502488</th>\n",
       "      <td>ZZZKLD</td>\n",
       "      <td>1249</td>\n",
       "      <td>old</td>\n",
       "      <td>54.0</td>\n",
       "      <td>female</td>\n",
       "      <td>ANDROID</td>\n",
       "      <td>SMARTPHONE</td>\n",
       "      <td>Россия</td>\n",
       "      <td>Москва</td>\n",
       "      <td>45-54</td>\n",
       "      <td>1-5</td>\n",
       "      <td>36+</td>\n",
       "      <td>5</td>\n",
       "      <td>detractor</td>\n",
       "    </tr>\n",
       "    <tr>\n",
       "      <th>502489</th>\n",
       "      <td>ZZZLWY</td>\n",
       "      <td>129</td>\n",
       "      <td>new</td>\n",
       "      <td>31.0</td>\n",
       "      <td>male</td>\n",
       "      <td>ANDROID</td>\n",
       "      <td>SMARTPHONE</td>\n",
       "      <td>Россия</td>\n",
       "      <td>Москва</td>\n",
       "      <td>25-34</td>\n",
       "      <td>1-5</td>\n",
       "      <td>4-6</td>\n",
       "      <td>8</td>\n",
       "      <td>passive</td>\n",
       "    </tr>\n",
       "    <tr>\n",
       "      <th>502490</th>\n",
       "      <td>ZZZQ5F</td>\n",
       "      <td>522</td>\n",
       "      <td>old</td>\n",
       "      <td>36.0</td>\n",
       "      <td>male</td>\n",
       "      <td>ANDROID</td>\n",
       "      <td>SMARTPHONE</td>\n",
       "      <td>Россия</td>\n",
       "      <td>Сургут</td>\n",
       "      <td>35-44</td>\n",
       "      <td>25-30</td>\n",
       "      <td>13-24</td>\n",
       "      <td>10</td>\n",
       "      <td>promoter</td>\n",
       "    </tr>\n",
       "    <tr>\n",
       "      <th>502491</th>\n",
       "      <td>ZZZQ8E</td>\n",
       "      <td>2936</td>\n",
       "      <td>old</td>\n",
       "      <td>37.0</td>\n",
       "      <td>female</td>\n",
       "      <td>ANDROID</td>\n",
       "      <td>SMARTPHONE</td>\n",
       "      <td>Россия</td>\n",
       "      <td>УланУдэ</td>\n",
       "      <td>35-44</td>\n",
       "      <td>65-70</td>\n",
       "      <td>36+</td>\n",
       "      <td>9</td>\n",
       "      <td>promoter</td>\n",
       "    </tr>\n",
       "    <tr>\n",
       "      <th>502492</th>\n",
       "      <td>ZZZYH0</td>\n",
       "      <td>2471</td>\n",
       "      <td>old</td>\n",
       "      <td>37.0</td>\n",
       "      <td>male</td>\n",
       "      <td>IOS</td>\n",
       "      <td>SMARTPHONE</td>\n",
       "      <td>Россия</td>\n",
       "      <td>Самара</td>\n",
       "      <td>35-44</td>\n",
       "      <td>10-15</td>\n",
       "      <td>36+</td>\n",
       "      <td>2</td>\n",
       "      <td>detractor</td>\n",
       "    </tr>\n",
       "  </tbody>\n",
       "</table>\n",
       "<p>502493 rows × 14 columns</p>\n",
       "</div>"
      ],
      "text/plain": [
       "       user_id  lt_day is_new   age gender_segment  os_name cpe_type_name  \\\n",
       "0       A001A2    2320    old  45.0         female  ANDROID    SMARTPHONE   \n",
       "1       A001WF    2344    old  53.0           male  ANDROID    SMARTPHONE   \n",
       "2       A003Q7     467    old  57.0           male  ANDROID    SMARTPHONE   \n",
       "3       A004TB    4190    old  44.0         female      IOS    SMARTPHONE   \n",
       "4       A004XT    1163    old  24.0           male  ANDROID    SMARTPHONE   \n",
       "...        ...     ...    ...   ...            ...      ...           ...   \n",
       "502488  ZZZKLD    1249    old  54.0         female  ANDROID    SMARTPHONE   \n",
       "502489  ZZZLWY     129    new  31.0           male  ANDROID    SMARTPHONE   \n",
       "502490  ZZZQ5F     522    old  36.0           male  ANDROID    SMARTPHONE   \n",
       "502491  ZZZQ8E    2936    old  37.0         female  ANDROID    SMARTPHONE   \n",
       "502492  ZZZYH0    2471    old  37.0           male      IOS    SMARTPHONE   \n",
       "\n",
       "       country          city age_segment traffic_segment lifetime_segment  \\\n",
       "0       Россия           Уфа       45-54             1-5              36+   \n",
       "1       Россия         Киров       45-54             1-5              36+   \n",
       "2       Россия        Москва       55-64           20-25            13-24   \n",
       "3       Россия  РостовнаДону       35-44           0.1-1              36+   \n",
       "4       Россия        Рязань       16-24            5-10              36+   \n",
       "...        ...           ...         ...             ...              ...   \n",
       "502488  Россия        Москва       45-54             1-5              36+   \n",
       "502489  Россия        Москва       25-34             1-5              4-6   \n",
       "502490  Россия        Сургут       35-44           25-30            13-24   \n",
       "502491  Россия       УланУдэ       35-44           65-70              36+   \n",
       "502492  Россия        Самара       35-44           10-15              36+   \n",
       "\n",
       "        nps_score  nps_group  \n",
       "0              10   promoter  \n",
       "1              10   promoter  \n",
       "2              10   promoter  \n",
       "3              10   promoter  \n",
       "4              10   promoter  \n",
       "...           ...        ...  \n",
       "502488          5  detractor  \n",
       "502489          8    passive  \n",
       "502490         10   promoter  \n",
       "502491          9   promoter  \n",
       "502492          2  detractor  \n",
       "\n",
       "[502493 rows x 14 columns]"
      ]
     },
     "execution_count": 4,
     "metadata": {},
     "output_type": "execute_result"
    }
   ],
   "source": [
    "df = pd.read_sql(query, engine)\n",
    "df"
   ]
  },
  {
   "cell_type": "code",
   "execution_count": 5,
   "id": "e3f50f86",
   "metadata": {
    "scrolled": true
   },
   "outputs": [
    {
     "name": "stdout",
     "output_type": "stream",
     "text": [
      "<class 'pandas.core.frame.DataFrame'>\n",
      "RangeIndex: 502493 entries, 0 to 502492\n",
      "Data columns (total 14 columns):\n",
      " #   Column            Non-Null Count   Dtype  \n",
      "---  ------            --------------   -----  \n",
      " 0   user_id           502493 non-null  object \n",
      " 1   lt_day            502493 non-null  int64  \n",
      " 2   is_new            502493 non-null  object \n",
      " 3   age               501939 non-null  float64\n",
      " 4   gender_segment    502493 non-null  object \n",
      " 5   os_name           502493 non-null  object \n",
      " 6   cpe_type_name     502493 non-null  object \n",
      " 7   country           502493 non-null  object \n",
      " 8   city              502493 non-null  object \n",
      " 9   age_segment       502493 non-null  object \n",
      " 10  traffic_segment   502493 non-null  object \n",
      " 11  lifetime_segment  502493 non-null  object \n",
      " 12  nps_score         502493 non-null  int64  \n",
      " 13  nps_group         502493 non-null  object \n",
      "dtypes: float64(1), int64(2), object(11)\n",
      "memory usage: 53.7+ MB\n"
     ]
    }
   ],
   "source": [
    "df.info()"
   ]
  },
  {
   "cell_type": "code",
   "execution_count": 6,
   "id": "9db04858",
   "metadata": {},
   "outputs": [],
   "source": [
    "df.to_csv('telecomm_csi_tableau.csv', index=False)"
   ]
  },
  {
   "cell_type": "markdown",
   "id": "9e456189",
   "metadata": {},
   "source": [
    "## Создание графиков, дашбордов и презентации в Tableau"
   ]
  },
  {
   "cell_type": "markdown",
   "id": "20b7a65c",
   "metadata": {},
   "source": [
    "https://public.tableau.com/views/TelecomProjectbySergeyToboev/TelecomProject?:language=en-US&:sid=&:redirect=auth&:display_count=n&:origin=viz_share_link"
   ]
  }
 ],
 "metadata": {
  "ExecuteTimeLog": [
   {
    "duration": 591,
    "start_time": "2024-07-09T14:10:19.524Z"
   },
   {
    "duration": 89,
    "start_time": "2024-07-09T14:10:20.715Z"
   },
   {
    "duration": 75,
    "start_time": "2024-07-09T14:12:48.449Z"
   },
   {
    "duration": 3,
    "start_time": "2024-07-09T15:19:42.538Z"
   },
   {
    "duration": 644,
    "start_time": "2024-07-09T15:19:44.129Z"
   },
   {
    "duration": 8,
    "start_time": "2024-07-09T15:19:55.527Z"
   },
   {
    "duration": 573,
    "start_time": "2024-07-09T15:23:09.318Z"
   },
   {
    "duration": 2,
    "start_time": "2024-07-09T15:25:02.954Z"
   },
   {
    "duration": 89,
    "start_time": "2024-07-09T15:25:03.542Z"
   },
   {
    "duration": 3,
    "start_time": "2024-07-09T15:25:04.165Z"
   },
   {
    "duration": 5781,
    "start_time": "2024-07-09T15:25:06.597Z"
   },
   {
    "duration": 3,
    "start_time": "2024-07-09T15:27:38.969Z"
   },
   {
    "duration": 5565,
    "start_time": "2024-07-09T15:27:40.027Z"
   },
   {
    "duration": 4,
    "start_time": "2024-07-09T15:28:25.628Z"
   },
   {
    "duration": 5231,
    "start_time": "2024-07-09T15:28:27.342Z"
   },
   {
    "duration": 5213,
    "start_time": "2024-07-09T15:28:41.581Z"
   },
   {
    "duration": 4713,
    "start_time": "2024-07-09T15:28:51.516Z"
   },
   {
    "duration": 13,
    "start_time": "2024-07-09T15:29:36.299Z"
   },
   {
    "duration": 529,
    "start_time": "2024-07-09T15:29:45.297Z"
   },
   {
    "duration": 3,
    "start_time": "2024-07-09T15:31:33.593Z"
   },
   {
    "duration": 5234,
    "start_time": "2024-07-09T15:31:34.671Z"
   },
   {
    "duration": 516,
    "start_time": "2024-07-09T15:31:39.907Z"
   },
   {
    "duration": 4,
    "start_time": "2024-07-09T15:39:41.802Z"
   },
   {
    "duration": 5289,
    "start_time": "2024-07-09T15:39:42.781Z"
   },
   {
    "duration": 513,
    "start_time": "2024-07-09T15:40:15.099Z"
   },
   {
    "duration": 4671,
    "start_time": "2024-07-09T15:40:22.136Z"
   },
   {
    "duration": 15,
    "start_time": "2024-07-09T15:52:22.218Z"
   },
   {
    "duration": 11,
    "start_time": "2024-07-09T15:53:20.920Z"
   },
   {
    "duration": 41,
    "start_time": "2024-07-09T15:56:51.801Z"
   },
   {
    "duration": 17,
    "start_time": "2024-07-09T15:57:11.463Z"
   },
   {
    "duration": 4788,
    "start_time": "2024-07-09T16:24:39.314Z"
   },
   {
    "duration": 563,
    "start_time": "2024-07-09T18:44:22.752Z"
   },
   {
    "duration": 71,
    "start_time": "2024-07-09T18:44:23.317Z"
   },
   {
    "duration": 3,
    "start_time": "2024-07-09T18:44:23.389Z"
   },
   {
    "duration": 771,
    "start_time": "2024-07-09T18:44:23.394Z"
   },
   {
    "duration": 0,
    "start_time": "2024-07-09T18:44:24.167Z"
   },
   {
    "duration": 0,
    "start_time": "2024-07-09T18:44:24.168Z"
   },
   {
    "duration": 3,
    "start_time": "2024-07-09T18:45:07.472Z"
   },
   {
    "duration": 4795,
    "start_time": "2024-07-09T18:45:08.473Z"
   },
   {
    "duration": 426,
    "start_time": "2024-07-09T18:45:21.031Z"
   },
   {
    "duration": 3551,
    "start_time": "2024-07-09T18:45:21.853Z"
   },
   {
    "duration": 3335,
    "start_time": "2024-07-09T18:45:26.704Z"
   },
   {
    "duration": 531,
    "start_time": "2024-07-12T09:56:40.312Z"
   },
   {
    "duration": 9,
    "start_time": "2024-07-12T09:56:40.845Z"
   },
   {
    "duration": 13,
    "start_time": "2024-07-12T09:56:40.855Z"
   },
   {
    "duration": 5959,
    "start_time": "2024-07-12T09:56:40.869Z"
   },
   {
    "duration": 500,
    "start_time": "2024-07-12T09:56:46.830Z"
   },
   {
    "duration": 3856,
    "start_time": "2024-07-12T09:56:47.331Z"
   },
   {
    "duration": 777,
    "start_time": "2024-07-12T10:41:59.313Z"
   },
   {
    "duration": 515,
    "start_time": "2024-07-12T11:51:25.194Z"
   },
   {
    "duration": 10,
    "start_time": "2024-07-12T11:51:25.711Z"
   },
   {
    "duration": 4,
    "start_time": "2024-07-12T11:51:25.722Z"
   },
   {
    "duration": 5673,
    "start_time": "2024-07-12T11:51:25.728Z"
   },
   {
    "duration": 512,
    "start_time": "2024-07-12T11:51:31.403Z"
   },
   {
    "duration": 3740,
    "start_time": "2024-07-12T11:51:31.916Z"
   },
   {
    "duration": 457,
    "start_time": "2024-07-14T18:19:48.776Z"
   },
   {
    "duration": 75,
    "start_time": "2024-07-14T18:19:49.595Z"
   },
   {
    "duration": 3,
    "start_time": "2024-07-14T18:19:50.423Z"
   },
   {
    "duration": 4318,
    "start_time": "2024-07-14T18:19:55.332Z"
   },
   {
    "duration": 440,
    "start_time": "2024-07-14T18:19:59.651Z"
   },
   {
    "duration": 3347,
    "start_time": "2024-07-14T18:20:06.444Z"
   },
   {
    "duration": 457,
    "start_time": "2024-07-15T21:34:43.383Z"
   },
   {
    "duration": 10,
    "start_time": "2024-07-15T21:34:43.842Z"
   },
   {
    "duration": 3,
    "start_time": "2024-07-15T21:34:43.853Z"
   },
   {
    "duration": 5832,
    "start_time": "2024-07-15T21:34:43.857Z"
   },
   {
    "duration": 517,
    "start_time": "2024-07-15T21:34:49.691Z"
   },
   {
    "duration": 3721,
    "start_time": "2024-07-15T21:34:50.210Z"
   },
   {
    "duration": 460,
    "start_time": "2024-07-15T21:43:27.188Z"
   },
   {
    "duration": 10,
    "start_time": "2024-07-15T21:43:27.649Z"
   },
   {
    "duration": 4,
    "start_time": "2024-07-15T21:43:27.660Z"
   },
   {
    "duration": 5705,
    "start_time": "2024-07-15T21:43:27.665Z"
   },
   {
    "duration": 518,
    "start_time": "2024-07-15T21:43:33.372Z"
   },
   {
    "duration": 4112,
    "start_time": "2024-07-15T21:43:33.892Z"
   }
  ],
  "kernelspec": {
   "display_name": "Python 3 (ipykernel)",
   "language": "python",
   "name": "python3"
  },
  "language_info": {
   "codemirror_mode": {
    "name": "ipython",
    "version": 3
   },
   "file_extension": ".py",
   "mimetype": "text/x-python",
   "name": "python",
   "nbconvert_exporter": "python",
   "pygments_lexer": "ipython3",
   "version": "3.12.4"
  },
  "toc": {
   "base_numbering": 1,
   "nav_menu": {},
   "number_sections": true,
   "sideBar": true,
   "skip_h1_title": true,
   "title_cell": "Table of Contents",
   "title_sidebar": "Contents",
   "toc_cell": false,
   "toc_position": {},
   "toc_section_display": true,
   "toc_window_display": false
  }
 },
 "nbformat": 4,
 "nbformat_minor": 5
}
